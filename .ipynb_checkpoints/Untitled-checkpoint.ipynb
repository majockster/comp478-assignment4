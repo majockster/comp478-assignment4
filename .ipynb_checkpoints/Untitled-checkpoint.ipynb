{
 "cells": [
  {
   "cell_type": "code",
   "execution_count": 1,
   "id": "e07ab591",
   "metadata": {},
   "outputs": [],
   "source": [
    "import cv2         \n",
    "import numpy as np\n",
    "\n",
    "image = cv2.imread('tools_noisy.png',0)\n",
    "\n",
    "x, output_image = cv2.threshold(image, 100, 255, cv2.THRESH_OTSU)\n",
    "\n",
    "cv2.imshow('Otsu', output_image)\n",
    "cv2.waitKey(0)\n",
    "cv2.destroyAllWindows()"
   ]
  },
  {
   "cell_type": "code",
   "execution_count": 2,
   "id": "eda8e55b",
   "metadata": {},
   "outputs": [],
   "source": [
    "image = cv2.GaussianBlur(image, (5,5), 0)\n",
    "\n",
    "x2, output_image2 = cv2.threshold(image, 100, 255, cv2.THRESH_OTSU)\n",
    "\n",
    "cv2.imshow('Otsu', output_image)\n",
    "cv2.imshow('Otsu with denoise', output_image2)\n",
    "cv2.waitKey(0)\n",
    "cv2.destroyAllWindows()"
   ]
  },
  {
   "cell_type": "code",
   "execution_count": null,
   "id": "b1d792a1",
   "metadata": {},
   "outputs": [],
   "source": [
    "#======================================================================\n",
    "import pywt\n",
    "\n",
    "def wavelet_transform(imagef32, mode, level):\n",
    "    coeffs = pywt.wavedec2(imagef32, mode, level=level)\n",
    "    coeffs_list = list(coeffs)\n",
    "    coeffs_list[0] *= 0\n",
    "\n",
    "    new_image = pywt.waverec2(coeffs_list, mode)\n",
    "    new_image *= 255\n",
    "    new_image = np.uint8(new_image)\n",
    "    \n",
    "    return new_image\n",
    "\n",
    "image2 = cv2.imread('lena.tif', 0)\n",
    "\n",
    "image2 = np.float32(image2)\n",
    "image2 /= 255\n",
    "\n",
    "new_haar_lvl1 = wavelet_transform(image2, 'haar', 1)\n",
    "new_haar_lvl2 = wavelet_transform(image2, 'haar', 2)\n",
    "new_haar_lvl3 = wavelet_transform(image2, 'haar', 3)\n",
    "\n",
    "new_db4_lvl1 = wavelet_transform(image2, 'db4', 1)\n",
    "new_db4_lvl2 = wavelet_transform(image2, 'db4', 2)\n",
    "new_db4_lvl3 = wavelet_transform(image2, 'db4', 3)\n",
    "\n",
    "cv2.imshow('haar level 1', new_haar_lvl1)\n",
    "cv2.imshow('haar level 2', new_haar_lvl2)\n",
    "cv2.imshow('haar level 3', new_haar_lvl3)\n",
    "\n",
    "cv2.imshow('db4 level 1', new_db4_lvl1)\n",
    "cv2.imshow('db4 level 2', new_db4_lvl2)\n",
    "cv2.imshow('db4 level 3', new_db4_lvl3)\n",
    "\n",
    "cv2.waitKey(0)\n",
    "cv2.destroyAllWindows()"
   ]
  },
  {
   "cell_type": "code",
   "execution_count": null,
   "id": "29ed39c2",
   "metadata": {},
   "outputs": [],
   "source": [
    "cv2.imshow('haar level 3', new_haar_lvl3)\n",
    "cv2.imshow('db4 level 3', new_db4_lvl3)\n",
    "cv2.waitKey(0)\n",
    "cv2.destroyAllWindows()"
   ]
  },
  {
   "cell_type": "code",
   "execution_count": null,
   "id": "79dc0751",
   "metadata": {},
   "outputs": [],
   "source": []
  }
 ],
 "metadata": {
  "kernelspec": {
   "display_name": "Python 3 (ipykernel)",
   "language": "python",
   "name": "python3"
  },
  "language_info": {
   "codemirror_mode": {
    "name": "ipython",
    "version": 3
   },
   "file_extension": ".py",
   "mimetype": "text/x-python",
   "name": "python",
   "nbconvert_exporter": "python",
   "pygments_lexer": "ipython3",
   "version": "3.9.5"
  }
 },
 "nbformat": 4,
 "nbformat_minor": 5
}
