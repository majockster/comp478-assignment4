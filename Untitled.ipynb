{
 "cells": [
  {
   "cell_type": "code",
   "execution_count": 1,
   "id": "e07ab591",
   "metadata": {},
   "outputs": [],
   "source": [
    "import cv2         \n",
    "import numpy as np\n",
    "\n",
    "image = cv2.imread('tools_noisy.png',0)\n",
    "\n",
    "x, output_image = cv2.threshold(image, 100, 255, cv2.THRESH_OTSU)\n",
    "\n",
    "cv2.imshow('Otsu', output_image)\n",
    "cv2.waitKey(0)\n",
    "cv2.destroyAllWindows()"
   ]
  },
  {
   "cell_type": "code",
   "execution_count": 2,
   "id": "eda8e55b",
   "metadata": {},
   "outputs": [],
   "source": [
    "image = cv2.GaussianBlur(image, (5,5), 0)\n",
    "\n",
    "x2, output_image2 = cv2.threshold(image, 100, 255, cv2.THRESH_OTSU)\n",
    "\n",
    "cv2.imshow('Otsu', output_image)\n",
    "cv2.imshow('Otsu with denoise', output_image2)\n",
    "cv2.waitKey(0)\n",
    "cv2.destroyAllWindows()"
   ]
  },
  {
   "cell_type": "code",
   "execution_count": null,
   "id": "b1d792a1",
   "metadata": {},
   "outputs": [],
   "source": []
  }
 ],
 "metadata": {
  "kernelspec": {
   "display_name": "Python 3 (ipykernel)",
   "language": "python",
   "name": "python3"
  },
  "language_info": {
   "codemirror_mode": {
    "name": "ipython",
    "version": 3
   },
   "file_extension": ".py",
   "mimetype": "text/x-python",
   "name": "python",
   "nbconvert_exporter": "python",
   "pygments_lexer": "ipython3",
   "version": "3.9.5"
  }
 },
 "nbformat": 4,
 "nbformat_minor": 5
}
